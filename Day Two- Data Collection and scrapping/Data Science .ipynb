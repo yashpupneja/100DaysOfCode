{
 "cells": [
  {
   "cell_type": "markdown",
   "metadata": {},
   "source": [
    "## Data Collection and Scrapping"
   ]
  },
  {
   "cell_type": "code",
   "execution_count": 5,
   "metadata": {},
   "outputs": [],
   "source": [
    "import requests"
   ]
  },
  {
   "cell_type": "code",
   "execution_count": 6,
   "metadata": {},
   "outputs": [],
   "source": [
    "response=requests.get(\"https://www.google.com/search?source=hp&ei=DAwuXIrmE4vbvgSEx6rIDg&q=python+download+url+content&btnK=Google+Search&oq=python+download+url+conte&gs_l=psy-ab.3.0.0i22i30.48208.60364..62393...2.0..0.3367.11754.0j2j9j5j8j1j9-1......0....1..gws-wiz.....6..0j35i39j0i131j0i10.fsSKmIrKf9g\")"
   ]
  },
  {
   "cell_type": "code",
   "execution_count": 7,
   "metadata": {},
   "outputs": [
    {
     "name": "stdout",
     "output_type": "stream",
     "text": [
      "Status Code:  200\n"
     ]
    }
   ],
   "source": [
    "print ('Status Code: ',response.status_code)"
   ]
  },
  {
   "cell_type": "code",
   "execution_count": 8,
   "metadata": {},
   "outputs": [
    {
     "name": "stdout",
     "output_type": "stream",
     "text": [
      "Headers:  {'Date': 'Thu, 03 Jan 2019 13:26:59 GMT', 'Expires': '-1', 'Cache-Control': 'private, max-age=0', 'Content-Type': 'text/html; charset=ISO-8859-1', 'P3P': 'CP=\"This is not a P3P policy! See g.co/p3phelp for more info.\"', 'Content-Encoding': 'gzip', 'Server': 'gws', 'X-XSS-Protection': '1; mode=block', 'X-Frame-Options': 'SAMEORIGIN', 'Set-Cookie': '1P_JAR=2019-01-03-13; expires=Sat, 02-Feb-2019 13:26:59 GMT; path=/; domain=.google.com, CGIC=IgMqLyo; expires=Fri, 05-Jul-2019 04:21:35 GMT; path=/complete/search; domain=.google.com; HttpOnly, CGIC=IgMqLyo; expires=Fri, 05-Jul-2019 04:21:35 GMT; path=/search; domain=.google.com; HttpOnly, NID=154=gG_ROMEzRkoJmI0A5mmheAmXmr7RDatNW2bO1LtfhNux7x3qe_bgd39TUtH8m2ckaVEV2T-diy1kH-oW-HCVV-FD_TeS6ZJ18bo0CuXsuzVoGytuVuc6uSeYiig0WdjNLK5MIzw3j1pYsQrB-kj3Qu2iH_sa4hm4AzScIKUYl0U; expires=Fri, 05-Jul-2019 13:26:59 GMT; path=/; domain=.google.com; HttpOnly', 'Alt-Svc': 'quic=\":443\"; ma=2592000; v=\"44,43,39,35\"', 'Transfer-Encoding': 'chunked'}\n"
     ]
    }
   ],
   "source": [
    "print('Headers: ',response.headers)"
   ]
  },
  {
   "cell_type": "code",
   "execution_count": 15,
   "metadata": {},
   "outputs": [
    {
     "name": "stdout",
     "output_type": "stream",
     "text": [
      "<!doctype html><html itemscope=\"\" itemtype=\"http://schema.org/SearchResultsPage\" lang=\"en-IN\"><head><meta content=\"text/html; charset=UTF-8\" http-equiv=\"Content-Type\"><meta content=\"/images/branding/googleg/1x/googleg_standard_color_128dp.png\" itemprop=\"image\"><noscript><meta content=\"0;url=/search?q=python+download+url+content&amp;ie=UTF-8&amp;gbv=1&amp;sei=ow0uXOjvHsz6vgSU65fACg\" http-equiv=\"refresh\"><style>table,div,span,p{display:none}</style><div style=\"display:block\">Pl\n"
     ]
    }
   ],
   "source": [
    "print(response.text[:480])"
   ]
  },
  {
   "cell_type": "markdown",
   "metadata": {},
   "source": [
    "### Restful APIs"
   ]
  },
  {
   "cell_type": "code",
   "execution_count": 16,
   "metadata": {},
   "outputs": [],
   "source": [
    "token=\" 02f123dfbbb3e5bcc76f7205117195032ccd84a4\"\n",
    "response=requests.get(\"https://api.github.com/user\", params={\"access_token\":token})"
   ]
  },
  {
   "cell_type": "code",
   "execution_count": 17,
   "metadata": {},
   "outputs": [
    {
     "name": "stdout",
     "output_type": "stream",
     "text": [
      "401\n",
      "application/json; charset=utf-8\n"
     ]
    }
   ],
   "source": [
    "print(response.status_code)\n",
    "print(response.headers[\"Content-Type\"])"
   ]
  },
  {
   "cell_type": "code",
   "execution_count": 18,
   "metadata": {},
   "outputs": [
    {
     "name": "stdout",
     "output_type": "stream",
     "text": [
      "dict_keys(['message', 'documentation_url'])\n"
     ]
    }
   ],
   "source": [
    "print(response.json().keys())"
   ]
  },
  {
   "cell_type": "markdown",
   "metadata": {},
   "source": [
    "### Common Data Formats and Handling"
   ]
  },
  {
   "cell_type": "code",
   "execution_count": 21,
   "metadata": {},
   "outputs": [
    {
     "name": "stdout",
     "output_type": "stream",
     "text": [
      "b'{\"message\":\"Bad credentials\",\"documentation_url\":\"https://developer.github.com/v3\"}'\n"
     ]
    }
   ],
   "source": [
    "print(response.content)"
   ]
  },
  {
   "cell_type": "code",
   "execution_count": 22,
   "metadata": {},
   "outputs": [],
   "source": [
    "import json"
   ]
  },
  {
   "cell_type": "code",
   "execution_count": 23,
   "metadata": {},
   "outputs": [
    {
     "name": "stdout",
     "output_type": "stream",
     "text": [
      "{'message': 'Bad credentials', 'documentation_url': 'https://developer.github.com/v3'}\n"
     ]
    }
   ],
   "source": [
    "print (json.loads(response.content))"
   ]
  },
  {
   "cell_type": "code",
   "execution_count": 24,
   "metadata": {},
   "outputs": [],
   "source": [
    "data={\"a\":[1,2,3,{\"b\":2.1}],'c':4}"
   ]
  },
  {
   "cell_type": "code",
   "execution_count": 25,
   "metadata": {},
   "outputs": [
    {
     "data": {
      "text/plain": [
       "'{\"a\": [1, 2, 3, {\"b\": 2.1}], \"c\": 4}'"
      ]
     },
     "execution_count": 25,
     "metadata": {},
     "output_type": "execute_result"
    }
   ],
   "source": [
    "json.dumps(data)"
   ]
  },
  {
   "cell_type": "code",
   "execution_count": 26,
   "metadata": {},
   "outputs": [],
   "source": [
    "from bs4 import BeautifulSoup"
   ]
  },
  {
   "cell_type": "code",
   "execution_count": 27,
   "metadata": {},
   "outputs": [],
   "source": [
    "root = BeautifulSoup(\"\"\"\n",
    "<tag attribute=\"value\">\n",
    "    <subtag>\n",
    "        Some content for the subtag\n",
    "    </subtag>\n",
    "    <openclosetag attribute=\"value2\"/>\n",
    "    <subtag>\n",
    "        Second one\n",
    "    </subtag>\n",
    "</tag>\n",
    "\"\"\", \"lxml-xml\")"
   ]
  },
  {
   "cell_type": "code",
   "execution_count": 29,
   "metadata": {},
   "outputs": [
    {
     "name": "stdout",
     "output_type": "stream",
     "text": [
      "<?xml version=\"1.0\" encoding=\"utf-8\"?>\n",
      "<tag attribute=\"value\">\n",
      "<subtag>\n",
      "        Some content for the subtag\n",
      "    </subtag>\n",
      "<openclosetag attribute=\"value2\"/>\n",
      "<subtag>\n",
      "        Second one\n",
      "    </subtag>\n",
      "</tag> \n",
      "\n"
     ]
    }
   ],
   "source": [
    "print(root, \"\\n\")"
   ]
  },
  {
   "cell_type": "code",
   "execution_count": 30,
   "metadata": {},
   "outputs": [
    {
     "name": "stdout",
     "output_type": "stream",
     "text": [
      "<subtag>\n",
      "        Some content for the subtag\n",
      "    </subtag> \n",
      "\n"
     ]
    }
   ],
   "source": [
    "print(root.tag.subtag, \"\\n\")"
   ]
  },
  {
   "cell_type": "code",
   "execution_count": 31,
   "metadata": {},
   "outputs": [
    {
     "name": "stdout",
     "output_type": "stream",
     "text": [
      "{'attribute': 'value2'}\n"
     ]
    }
   ],
   "source": [
    "print(root.tag.openclosetag.attrs)"
   ]
  },
  {
   "cell_type": "code",
   "execution_count": 32,
   "metadata": {},
   "outputs": [
    {
     "name": "stdout",
     "output_type": "stream",
     "text": [
      "[<subtag>\n",
      "        Some content for the subtag\n",
      "    </subtag>, <subtag>\n",
      "        Second one\n",
      "    </subtag>]\n"
     ]
    }
   ],
   "source": [
    "print(root.tag.find_all(\"subtag\"))"
   ]
  },
  {
   "cell_type": "code",
   "execution_count": 33,
   "metadata": {},
   "outputs": [
    {
     "name": "stdout",
     "output_type": "stream",
     "text": [
      "[<subtag>\n",
      "        Some content for the subtag\n",
      "    </subtag>, <subtag>\n",
      "        Second one\n",
      "    </subtag>]\n"
     ]
    }
   ],
   "source": [
    "print(root.find_all(\"subtag\"))"
   ]
  },
  {
   "cell_type": "code",
   "execution_count": null,
   "metadata": {},
   "outputs": [],
   "source": []
  }
 ],
 "metadata": {
  "kernelspec": {
   "display_name": "Python 3",
   "language": "python",
   "name": "python3"
  },
  "language_info": {
   "codemirror_mode": {
    "name": "ipython",
    "version": 3
   },
   "file_extension": ".py",
   "mimetype": "text/x-python",
   "name": "python",
   "nbconvert_exporter": "python",
   "pygments_lexer": "ipython3",
   "version": "3.6.5"
  }
 },
 "nbformat": 4,
 "nbformat_minor": 2
}
