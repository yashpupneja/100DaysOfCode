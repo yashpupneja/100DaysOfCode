{
 "cells": [
  {
   "cell_type": "code",
   "execution_count": 8,
   "metadata": {},
   "outputs": [],
   "source": [
    "import pygame\n",
    "import math"
   ]
  },
  {
   "cell_type": "code",
   "execution_count": null,
   "metadata": {},
   "outputs": [],
   "source": [
    "def run():\n",
    "    # General constants\n",
    "    BLACK = (0, 0, 0)\n",
    "    WHITE = (255, 255, 255)\n",
    "    GREEN = (0, 255, 0)\n",
    "    RED = (255, 0, 0)\n",
    "    BLUE = (0, 0, 255)\n",
    "    PI = 3.141592653\n",
    "\n",
    "    # General variables\n",
    "    steps_x_offset_origin = 0\n",
    "    STEPS_Y_OFFSET_ORIGIN = 0\n",
    "    steps_y_offset_draw = 0\n",
    "    steps_x_offset_draw = 0\n",
    "\n",
    "    # Initializing library\n",
    "    pygame.init()\n",
    "\n",
    "    # Set the width and height of the screen [width, height]\n",
    "    size = (900, 700)\n",
    "    screen = pygame.display.set_mode(size)\n",
    "\n",
    "    pygame.display.set_caption('Aztec Pyramid')\n",
    "\n",
    "    # Loop until the user clicks the close button\n",
    "    done = False\n",
    "\n",
    "    # Used to manage how fast the screen updates\n",
    "    clock = pygame.time.Clock()\n",
    "\n",
    "    # -------- Main Program Loop ---------\n",
    "    while not done:\n",
    "        # --- Main event loop\n",
    "        for event in pygame.event.get():\n",
    "            if event.type == pygame.QUIT:\n",
    "                done = True\n",
    "\n",
    "        # --- Game logic should go here\n",
    "        \n",
    "        # First, clear the screen to white. Don't put other drawing commands\n",
    "        # above this, or they will be erased with this command\n",
    "        screen.fill(WHITE)\n",
    "\n",
    "        # --- Drawing code should go here\n",
    "        # Drawing the main structure\n",
    "        for steps in range(1, 10):\n",
    "            pygame.draw.rect(screen, BLACK, [100 + steps_x_offset_origin, 600 - STEPS_Y_OFFSET_ORIGIN, 700 - steps_x_offset_draw, 50], 3)\n",
    "            steps_x_offset_origin += 3\n",
    "            STEPS_Y_OFFSET_ORIGIN += 5\n",
    "            steps_x_offset_draw += 3\n",
    "\n",
    "        # --- Go ahead and update the screen with what we've drawn.\n",
    "        pygame.display.flip()\n",
    "\n",
    "        # --- Limit to 60 frames per second\n",
    "        clock.tick(60)\n",
    "\n",
    "    # Close the window and quit.\n",
    "    # If you forget this line, the program will 'hang'\n",
    "    # on exit if running from IDLE.\n",
    "    pygame.quit()\n",
    "\n",
    "\n",
    "if __name__ == '__main__':\n",
    "    run()\n"
   ]
  },
  {
   "cell_type": "code",
   "execution_count": null,
   "metadata": {},
   "outputs": [],
   "source": []
  }
 ],
 "metadata": {
  "kernelspec": {
   "display_name": "Python 3",
   "language": "python",
   "name": "python3"
  },
  "language_info": {
   "codemirror_mode": {
    "name": "ipython",
    "version": 3
   },
   "file_extension": ".py",
   "mimetype": "text/x-python",
   "name": "python",
   "nbconvert_exporter": "python",
   "pygments_lexer": "ipython3",
   "version": "3.6.5"
  }
 },
 "nbformat": 4,
 "nbformat_minor": 2
}
