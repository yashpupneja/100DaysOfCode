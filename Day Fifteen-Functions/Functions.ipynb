{
 "cells": [
  {
   "cell_type": "code",
   "execution_count": 4,
   "metadata": {},
   "outputs": [
    {
     "name": "stdout",
     "output_type": "stream",
     "text": [
      "79.05263157894737\n"
     ]
    }
   ],
   "source": [
    "# Average grades of students program\n",
    "students=[\n",
    "    {\"name\":\"Yash\",\"marks\":[56,77,97]},\n",
    "    {\"name\":\"Anshima\",\"marks\":[45,80]},\n",
    "    {\"name\":\"Shubham\",\"marks\":[87,75,100,95,98]},\n",
    "    {\"name\":\"Lovish\",\"marks\":[67,70,80]},\n",
    "    {\"name\":\"Rohit\",\"marks\":[44,55]},\n",
    "    {\"name\":\"Anchal\",\"marks\":[86,90,100,100]}, \n",
    "]\n",
    "total=0\n",
    "count=0\n",
    "for student in students:\n",
    "    total+=sum(student['marks'])\n",
    "    count+=len(student['marks'])\n",
    "    \n",
    "print(total/count)"
   ]
  },
  {
   "cell_type": "code",
   "execution_count": 5,
   "metadata": {},
   "outputs": [
    {
     "name": "stdout",
     "output_type": "stream",
     "text": [
      "Hello Everyone\n"
     ]
    }
   ],
   "source": [
    "def my_function():\n",
    "    print(\"Hello Everyone\")\n",
    "my_function()"
   ]
  },
  {
   "cell_type": "code",
   "execution_count": 6,
   "metadata": {},
   "outputs": [
    {
     "name": "stdout",
     "output_type": "stream",
     "text": [
      "68\n"
     ]
    }
   ],
   "source": [
    "def add_two(x,y):\n",
    "    print(x+y)\n",
    "add_two(13,55)"
   ]
  },
  {
   "cell_type": "code",
   "execution_count": 7,
   "metadata": {},
   "outputs": [
    {
     "name": "stdout",
     "output_type": "stream",
     "text": [
      "Hello\n"
     ]
    }
   ],
   "source": [
    "def hi():\n",
    "    print(\"Hello\")\n",
    "hi()"
   ]
  },
  {
   "cell_type": "code",
   "execution_count": 9,
   "metadata": {},
   "outputs": [],
   "source": [
    "def add_two(x,y):\n",
    "    return x+y\n",
    "def p_add_two(x,y):\n",
    "    print(x+y)"
   ]
  },
  {
   "cell_type": "code",
   "execution_count": 10,
   "metadata": {},
   "outputs": [
    {
     "name": "stdout",
     "output_type": "stream",
     "text": [
      "58\n"
     ]
    }
   ],
   "source": [
    "n1=add_two(13,45)\n",
    "n2=p_add_two(13,45)"
   ]
  },
  {
   "cell_type": "markdown",
   "metadata": {},
   "source": [
    "### Lambda Functions"
   ]
  },
  {
   "cell_type": "code",
   "execution_count": 11,
   "metadata": {},
   "outputs": [
    {
     "data": {
      "text/plain": [
       "15"
      ]
     },
     "execution_count": 11,
     "metadata": {},
     "output_type": "execute_result"
    }
   ],
   "source": [
    "(lambda x,y : x+y)(10,5)"
   ]
  },
  {
   "cell_type": "code",
   "execution_count": 13,
   "metadata": {},
   "outputs": [
    {
     "name": "stdout",
     "output_type": "stream",
     "text": [
      "Yashaswi\n"
     ]
    }
   ],
   "source": [
    "def who(data,identify):\n",
    "    return identify(data)\n",
    "def my_identifier_function(data):\n",
    "    return data['name']\n",
    "user={'name':'Yashaswi','surname':'Pupneja'}\n",
    "print(who(user,my_identifier_function))"
   ]
  },
  {
   "cell_type": "code",
   "execution_count": 14,
   "metadata": {},
   "outputs": [
    {
     "name": "stdout",
     "output_type": "stream",
     "text": [
      "Pupneja\n"
     ]
    }
   ],
   "source": [
    "print(who(user,lambda x:x ['surname']))"
   ]
  },
  {
   "cell_type": "code",
   "execution_count": null,
   "metadata": {},
   "outputs": [],
   "source": []
  }
 ],
 "metadata": {
  "kernelspec": {
   "display_name": "Python 3",
   "language": "python",
   "name": "python3"
  },
  "language_info": {
   "codemirror_mode": {
    "name": "ipython",
    "version": 3
   },
   "file_extension": ".py",
   "mimetype": "text/x-python",
   "name": "python",
   "nbconvert_exporter": "python",
   "pygments_lexer": "ipython3",
   "version": "3.6.5"
  }
 },
 "nbformat": 4,
 "nbformat_minor": 2
}
