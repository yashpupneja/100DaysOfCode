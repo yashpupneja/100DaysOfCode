{
 "cells": [
  {
   "cell_type": "markdown",
   "metadata": {},
   "source": [
    "### Theano Basics"
   ]
  },
  {
   "cell_type": "code",
   "execution_count": 1,
   "metadata": {},
   "outputs": [
    {
     "name": "stderr",
     "output_type": "stream",
     "text": [
      "WARNING (theano.configdefaults): g++ not available, if using conda: `conda install m2w64-toolchain`\n",
      "c:\\users\\lenovo\\appdata\\local\\programs\\python\\python36\\lib\\site-packages\\theano\\configdefaults.py:560: UserWarning: DeprecationWarning: there is no c++ compiler.This is deprecated and with Theano 0.11 a c++ compiler will be mandatory\n",
      "  warnings.warn(\"DeprecationWarning: there is no c++ compiler.\"\n",
      "WARNING (theano.configdefaults): g++ not detected ! Theano will be unable to execute optimized C-implementations (for both CPU and GPU) and will default to Python implementations. Performance will be severely degraded. To remove this warning, set Theano flags cxx to an empty string.\n",
      "WARNING (theano.tensor.blas): Using NumPy C-API based implementation for BLAS functions.\n"
     ]
    }
   ],
   "source": [
    "import theano"
   ]
  },
  {
   "cell_type": "code",
   "execution_count": 2,
   "metadata": {},
   "outputs": [],
   "source": [
    "import numpy as np"
   ]
  },
  {
   "cell_type": "code",
   "execution_count": 3,
   "metadata": {},
   "outputs": [],
   "source": [
    "import theano.tensor as T"
   ]
  },
  {
   "cell_type": "code",
   "execution_count": 4,
   "metadata": {},
   "outputs": [],
   "source": [
    "from theano import function"
   ]
  },
  {
   "cell_type": "code",
   "execution_count": 5,
   "metadata": {},
   "outputs": [
    {
     "data": {
      "text/plain": [
       "array(10.)"
      ]
     },
     "execution_count": 5,
     "metadata": {},
     "output_type": "execute_result"
    }
   ],
   "source": [
    "x=T.dscalar('x')\n",
    "y=T.dscalar('y')\n",
    "z=x+y\n",
    "f=function([x,y],z)\n",
    "f(8,2)"
   ]
  },
  {
   "cell_type": "markdown",
   "metadata": {},
   "source": [
    "### Learning an example Nueral Network"
   ]
  },
  {
   "cell_type": "code",
   "execution_count": 6,
   "metadata": {},
   "outputs": [],
   "source": [
    "from sklearn.datasets import load_breast_cancer"
   ]
  },
  {
   "cell_type": "code",
   "execution_count": 7,
   "metadata": {},
   "outputs": [],
   "source": [
    "cancer=load_breast_cancer()"
   ]
  },
  {
   "cell_type": "code",
   "execution_count": 8,
   "metadata": {},
   "outputs": [],
   "source": [
    "X_train=cancer.data[:340]\n",
    "y_train=cancer.target[:340]"
   ]
  },
  {
   "cell_type": "code",
   "execution_count": 9,
   "metadata": {},
   "outputs": [],
   "source": [
    "X_test=cancer.data[340:]\n",
    "y_test=cancer.target[340:]"
   ]
  },
  {
   "cell_type": "code",
   "execution_count": 12,
   "metadata": {},
   "outputs": [
    {
     "name": "stderr",
     "output_type": "stream",
     "text": [
      "Using TensorFlow backend.\n"
     ]
    }
   ],
   "source": [
    "import keras"
   ]
  },
  {
   "cell_type": "code",
   "execution_count": 14,
   "metadata": {},
   "outputs": [],
   "source": [
    "from keras.models import Sequential"
   ]
  },
  {
   "cell_type": "code",
   "execution_count": 15,
   "metadata": {},
   "outputs": [],
   "source": [
    "from keras.layers import Dense,Dropout"
   ]
  },
  {
   "cell_type": "code",
   "execution_count": 16,
   "metadata": {},
   "outputs": [],
   "source": [
    "model=Sequential()\n",
    "model.add(Dense(15,input_dim=30,activation='relu'))\n",
    "model.add(Dense(1,activation='sigmoid'))"
   ]
  },
  {
   "cell_type": "code",
   "execution_count": 17,
   "metadata": {},
   "outputs": [
    {
     "data": {
      "text/plain": [
       "<keras.engine.sequential.Sequential at 0x1c60393fc88>"
      ]
     },
     "execution_count": 17,
     "metadata": {},
     "output_type": "execute_result"
    }
   ],
   "source": [
    "model"
   ]
  },
  {
   "cell_type": "code",
   "execution_count": 19,
   "metadata": {},
   "outputs": [],
   "source": [
    "model.compile(loss='binary_crossentropy',optimizer='rmsprop',metrics=['accuracy'])"
   ]
  },
  {
   "cell_type": "code",
   "execution_count": 20,
   "metadata": {},
   "outputs": [
    {
     "name": "stdout",
     "output_type": "stream",
     "text": [
      "Epoch 1/20\n",
      "340/340 [==============================] - 0s 789us/step - loss: 7.3616 - acc: 0.5382\n",
      "Epoch 2/20\n",
      "340/340 [==============================] - 0s 44us/step - loss: 7.3616 - acc: 0.5382\n",
      "Epoch 3/20\n",
      "340/340 [==============================] - 0s 41us/step - loss: 7.3616 - acc: 0.5382\n",
      "Epoch 4/20\n",
      "340/340 [==============================] - 0s 44us/step - loss: 7.3616 - acc: 0.5382\n",
      "Epoch 5/20\n",
      "340/340 [==============================] - 0s 44us/step - loss: 7.3616 - acc: 0.5382\n",
      "Epoch 6/20\n",
      "340/340 [==============================] - 0s 38us/step - loss: 7.3616 - acc: 0.5382\n",
      "Epoch 7/20\n",
      "340/340 [==============================] - 0s 44us/step - loss: 7.3616 - acc: 0.5382\n",
      "Epoch 8/20\n",
      "340/340 [==============================] - 0s 44us/step - loss: 7.3616 - acc: 0.5382\n",
      "Epoch 9/20\n",
      "340/340 [==============================] - 0s 47us/step - loss: 7.3616 - acc: 0.5382\n",
      "Epoch 10/20\n",
      "340/340 [==============================] - 0s 35us/step - loss: 7.3616 - acc: 0.5382\n",
      "Epoch 11/20\n",
      "340/340 [==============================] - 0s 44us/step - loss: 7.3616 - acc: 0.5382\n",
      "Epoch 12/20\n",
      "340/340 [==============================] - 0s 47us/step - loss: 7.3616 - acc: 0.5382\n",
      "Epoch 13/20\n",
      "340/340 [==============================] - 0s 35us/step - loss: 7.3616 - acc: 0.5382\n",
      "Epoch 14/20\n",
      "340/340 [==============================] - 0s 38us/step - loss: 7.3616 - acc: 0.5382\n",
      "Epoch 15/20\n",
      "340/340 [==============================] - 0s 38us/step - loss: 7.3616 - acc: 0.5382\n",
      "Epoch 16/20\n",
      "340/340 [==============================] - 0s 35us/step - loss: 7.3616 - acc: 0.5382\n",
      "Epoch 17/20\n",
      "340/340 [==============================] - 0s 41us/step - loss: 7.3616 - acc: 0.5382\n",
      "Epoch 18/20\n",
      "340/340 [==============================] - 0s 35us/step - loss: 7.3616 - acc: 0.5382\n",
      "Epoch 19/20\n",
      "340/340 [==============================] - 0s 38us/step - loss: 7.3616 - acc: 0.5382\n",
      "Epoch 20/20\n",
      "340/340 [==============================] - 0s 44us/step - loss: 7.3616 - acc: 0.5382\n"
     ]
    },
    {
     "data": {
      "text/plain": [
       "<keras.callbacks.History at 0x1c60393fa90>"
      ]
     },
     "execution_count": 20,
     "metadata": {},
     "output_type": "execute_result"
    }
   ],
   "source": [
    "model.fit(X_train,y_train,epochs=20,batch_size=50)"
   ]
  },
  {
   "cell_type": "code",
   "execution_count": 21,
   "metadata": {},
   "outputs": [],
   "source": [
    "predictions=model.predict_classes(X_test)"
   ]
  },
  {
   "cell_type": "code",
   "execution_count": 23,
   "metadata": {},
   "outputs": [],
   "source": [
    "from sklearn import metrics"
   ]
  },
  {
   "cell_type": "code",
   "execution_count": 24,
   "metadata": {},
   "outputs": [
    {
     "name": "stdout",
     "output_type": "stream",
     "text": [
      "Accuracy:  0.759825327510917\n"
     ]
    }
   ],
   "source": [
    "print('Accuracy: ',metrics.accuracy_score(y_true=y_test,y_pred=predictions))"
   ]
  },
  {
   "cell_type": "code",
   "execution_count": 26,
   "metadata": {},
   "outputs": [
    {
     "name": "stdout",
     "output_type": "stream",
     "text": [
      "              precision    recall  f1-score   support\n",
      "\n",
      "           0       0.00      0.00      0.00        55\n",
      "           1       0.76      1.00      0.86       174\n",
      "\n",
      "   micro avg       0.76      0.76      0.76       229\n",
      "   macro avg       0.38      0.50      0.43       229\n",
      "weighted avg       0.58      0.76      0.66       229\n",
      "\n"
     ]
    },
    {
     "name": "stderr",
     "output_type": "stream",
     "text": [
      "c:\\users\\lenovo\\appdata\\local\\programs\\python\\python36\\lib\\site-packages\\sklearn\\metrics\\classification.py:1143: UndefinedMetricWarning: Precision and F-score are ill-defined and being set to 0.0 in labels with no predicted samples.\n",
      "  'precision', 'predicted', average, warn_for)\n"
     ]
    }
   ],
   "source": [
    "print(metrics.classification_report(y_true=y_test, y_pred=predictions))"
   ]
  },
  {
   "cell_type": "code",
   "execution_count": null,
   "metadata": {},
   "outputs": [],
   "source": []
  }
 ],
 "metadata": {
  "kernelspec": {
   "display_name": "Python 3",
   "language": "python",
   "name": "python3"
  },
  "language_info": {
   "codemirror_mode": {
    "name": "ipython",
    "version": 3
   },
   "file_extension": ".py",
   "mimetype": "text/x-python",
   "name": "python",
   "nbconvert_exporter": "python",
   "pygments_lexer": "ipython3",
   "version": "3.6.5"
  }
 },
 "nbformat": 4,
 "nbformat_minor": 2
}
