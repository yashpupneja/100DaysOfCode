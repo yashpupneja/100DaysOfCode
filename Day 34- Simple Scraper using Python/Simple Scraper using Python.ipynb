{
 "cells": [
  {
   "cell_type": "code",
   "execution_count": 4,
   "metadata": {},
   "outputs": [],
   "source": [
    "import requests\n",
    "from bs4 import BeautifulSoup"
   ]
  },
  {
   "cell_type": "code",
   "execution_count": 5,
   "metadata": {},
   "outputs": [],
   "source": [
    "response = requests.get(\"https://news.ycombinator.com/\")"
   ]
  },
  {
   "cell_type": "code",
   "execution_count": 6,
   "metadata": {},
   "outputs": [],
   "source": [
    "html = response.content"
   ]
  },
  {
   "cell_type": "code",
   "execution_count": 7,
   "metadata": {},
   "outputs": [],
   "source": [
    "soup = BeautifulSoup(html)"
   ]
  },
  {
   "cell_type": "code",
   "execution_count": 8,
   "metadata": {},
   "outputs": [],
   "source": [
    "table = soup.find('table')"
   ]
  },
  {
   "cell_type": "code",
   "execution_count": 9,
   "metadata": {},
   "outputs": [
    {
     "name": "stdout",
     "output_type": "stream",
     "text": [
      "{b'Firefox 66 to block automatically playing audible video and audio': b'https://hacks.mozilla.org/2019/02/firefox-66-to-block-automatically-playing-audible-video-and-audio/'}\n",
      "{b'Glowing reviews tout counterfeit cash on the dark web': b'https://www.latimes.com/nation/la-na-pol-dark-web-counterfeiter-20190201-story.html#nws=mcnewsletter'}\n",
      "{b'Stylelint \\xe2\\x80\\x93 A modern linter for CSS': b'https://stylelint.io/'}\n",
      "{b'Learning Rust via Advent of Code': b'https://www.forrestthewoods.com/blog/learning-rust-via-advent-of-code/'}\n",
      "{b'The infrastructural humiliation of America': b'https://techcrunch.com/2019/02/03/the-infrastructural-humiliation-of-america/'}\n",
      "{b'TensorFlow.js: Machine Learning for the Web and Beyond': b'https://arxiv.org/abs/1901.05350'}\n",
      "{b'Navigation Should Be Boring': b'https://allenpike.com/2019/navigation-should-be-boring'}\n",
      "{b'The Art of PNG Glitch (2015)': b'http://ucnv.github.io/pnglitch/'}\n",
      "{b'Google Has Quietly Dropped Ban on Personally Identifiable Web Tracking': b'https://www.propublica.org/article/google-has-quietly-dropped-ban-on-personally-identifiable-web-tracking'}\n",
      "{b'Istio \\xe2\\x80\\x93 An open platform to connect, manage, and secure microservices': b'https://github.com/istio/istio'}\n",
      "{b'$9,000 Chinese electric cars are coming to the US and Europe': b'https://qz.com/1541380/the-cheapest-chinese-electric-cars-are-coming-to-the-us-and-europe/'}\n",
      "{b'Interactive 3D ASCII scenes': b'https://yeahpython.github.io/game/game.html'}\n",
      "{b'WebAssembly Troubles Part 1: WebAssembly Is Not a Stack Machine': b'http://troubles.md/posts/wasm-is-not-a-stack-machine/'}\n",
      "{b'Huawei Sting Offers Rare Glimpse of the U.S. Targeting a Chinese Giant': b'https://www.bloomberg.com/news/features/2019-02-04/huawei-sting-offers-rare-glimpse-of-u-s-targeting-chinese-giant'}\n",
      "{b'Vanta (YC W18) is hiring our first product support engineer (SF, remote US)': b'https://vanta.com/jobs'}\n",
      "{b'Behind the Lion Air Crash, a Trail of Decisions Kept Pilots in the Dark': b'https://www.nytimes.com/2019/02/03/world/asia/lion-air-plane-crash-pilots.html'}\n",
      "{b'Mozilla Raises Concerns Over Facebook\\xe2\\x80\\x99s Lack of Transparency': b'https://blog.mozilla.org/blog/2019/01/31/mozilla-raises-concerns-over-facebooks-lack-of-transparency/'}\n",
      "{b'Python 3.8.0a1 is now available for testing': b'https://pythoninsider.blogspot.com/2019/02/python-380a1-is-now-available-for.html'}\n",
      "{b'Comprehensive Python Cheatsheet (2018)': b'https://gto76.github.io/python-cheatsheet/'}\n",
      "{b\"Defense of Amazon's Face Recognition Tool Undermined by Only Known Police Client\": b'https://gizmodo.com/defense-of-amazons-face-recognition-tool-undermined-by-1832238149'}\n",
      "{b'App Wants to Track Every Homeless Person in San Francisco': b'https://www.bloomberg.com/news/articles/2019-02-04/one-system-wants-to-track-every-homeless-person-in-san-francisco'}\n",
      "{b'PolarPod \\xe2\\x80\\x93 Around Antarctica': b'https://www.oceanpolaire.org/en/polar-pod/'}\n",
      "{b'German town votes \\xe2\\x80\\x98No\\xe2\\x80\\x99 to street names': b'https://www.dw.com/en/german-town-votes-no-to-street-names/a-47345093'}\n",
      "{b'WebAssembly Troubles Part 3: The Stack Is Not the Stack': b'http://troubles.md/posts/the-stack-is-not-the-stack/'}\n",
      "{b'Understanding the Network Interface (NI) Card': b'https://loomcom.com/blog/0118_understanding_the_ni_card.html'}\n",
      "{b'Public APIs: A collective list of free APIs': b'https://github.com/toddmotto/public-apis'}\n",
      "{b'Malicious Deep Fake Prohibition Act of 2018 [pdf]': b'https://www.govinfo.gov/content/pkg/BILLS-115s3805is/pdf/BILLS-115s3805is.pdf'}\n",
      "{b\"Attorneys General in Six States Are Now Investigating Facebook's Data Practices\": b'https://gizmodo.com/report-attorneys-general-in-six-states-are-now-investi-1832294726'}\n",
      "{b\"The Bodleian's \\xe2\\x80\\x98secret trove of obscene material\\xe2\\x80\\x99\": b'https://www.the-tls.co.uk/articles/public/sex-libris/'}\n",
      "{b'Show HN: Linjat, a small puzzle game': b'https://linjat.snellman.net'}\n"
     ]
    }
   ],
   "source": [
    "#Links array\n",
    "links = []\n",
    "#We iterate over the rows\n",
    "for row in table.findAll ('tr',attrs={'class':'athing'}):\n",
    "    for cell in row.findAll('td',attrs={'class':'title'}):\n",
    "            link = cell.find('a',attrs={'class':'storylink'})\n",
    "    if link:\n",
    "        links.append({link.text.encode('utf-8') : link.get('href').encode('utf-8')})\n",
    "\n",
    "for link in links:\n",
    "    print (link)"
   ]
  },
  {
   "cell_type": "code",
   "execution_count": null,
   "metadata": {},
   "outputs": [],
   "source": []
  }
 ],
 "metadata": {
  "kernelspec": {
   "display_name": "Python 3",
   "language": "python",
   "name": "python3"
  },
  "language_info": {
   "codemirror_mode": {
    "name": "ipython",
    "version": 3
   },
   "file_extension": ".py",
   "mimetype": "text/x-python",
   "name": "python",
   "nbconvert_exporter": "python",
   "pygments_lexer": "ipython3",
   "version": "3.6.5"
  }
 },
 "nbformat": 4,
 "nbformat_minor": 2
}
