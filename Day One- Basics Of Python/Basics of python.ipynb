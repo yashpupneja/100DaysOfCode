{
 "cells": [
  {
   "cell_type": "markdown",
   "metadata": {},
   "source": [
    "# Basics Of Python"
   ]
  },
  {
   "cell_type": "markdown",
   "metadata": {},
   "source": [
    "### 1. Variables,Expressions and Statements"
   ]
  },
  {
   "cell_type": "code",
   "execution_count": 1,
   "metadata": {},
   "outputs": [
    {
     "name": "stdout",
     "output_type": "stream",
     "text": [
      "Enter your name:\n",
      "Yashaswi\n",
      "HelloYashaswi\n"
     ]
    }
   ],
   "source": [
    "#Program that uses input to prompt the user for their name and welcome them\n",
    "print('Enter your name:')\n",
    "name=input()\n",
    "nname='Hello'+name\n",
    "print(nname)"
   ]
  },
  {
   "cell_type": "code",
   "execution_count": 7,
   "metadata": {},
   "outputs": [
    {
     "name": "stdout",
     "output_type": "stream",
     "text": [
      "Enter Hours: \n",
      "35\n",
      "Enter Rate: \n",
      "2.75\n",
      "Pay:  96.25\n"
     ]
    }
   ],
   "source": [
    "#Progam to prompt the user for hours and rate per hour to compute gross pay\n",
    "print('Enter Hours: ')\n",
    "hrs=input()\n",
    "print('Enter Rate: ')\n",
    "rate=input()\n",
    "pay=float(hrs)*float(rate)\n",
    "print('Pay: ',pay)"
   ]
  },
  {
   "cell_type": "code",
   "execution_count": 9,
   "metadata": {},
   "outputs": [
    {
     "name": "stdout",
     "output_type": "stream",
     "text": [
      "Enter Temperature:\n",
      "0\n",
      "Temperature in Fahrenheit: \n"
     ]
    },
    {
     "data": {
      "text/plain": [
       "32.0"
      ]
     },
     "execution_count": 9,
     "metadata": {},
     "output_type": "execute_result"
    }
   ],
   "source": [
    "#Program to prompt the user for celsius Temperature and convert it to Fahrenheit Temperature and print out the converted temperatures\n",
    "print('Enter Temperature:')\n",
    "Ct=input()\n",
    "Tf=(float(Ct)*(9/5))+32\n",
    "print('Temperature in Fahrenheit: ')\n",
    "float(Tf)"
   ]
  },
  {
   "cell_type": "markdown",
   "metadata": {},
   "source": [
    "### 2. Conditional Execution"
   ]
  },
  {
   "cell_type": "code",
   "execution_count": 20,
   "metadata": {},
   "outputs": [
    {
     "name": "stdout",
     "output_type": "stream",
     "text": [
      "Enter Hours: \n",
      "45\n",
      "Enter Rate: \n",
      "10\n",
      "Pay: \n"
     ]
    },
    {
     "data": {
      "text/plain": [
       "675"
      ]
     },
     "execution_count": 20,
     "metadata": {},
     "output_type": "execute_result"
    }
   ],
   "source": [
    "#Rewrite the pay computation to give employee 1.5 times the hourly rate for hours worked above 40 hours\n",
    "print('Enter Hours: ')\n",
    "hrs=input()\n",
    "hr=int(hrs)\n",
    "print('Enter Rate: ')\n",
    "rate=input()\n",
    "r=int(rate)\n",
    "if hr>40:\n",
    "    r=1.5*r\n",
    "pay=int(hr)*int(r)\n",
    "print('Pay: ')\n",
    "pay"
   ]
  },
  {
   "cell_type": "code",
   "execution_count": null,
   "metadata": {},
   "outputs": [],
   "source": []
  }
 ],
 "metadata": {
  "kernelspec": {
   "display_name": "Python 3",
   "language": "python",
   "name": "python3"
  },
  "language_info": {
   "codemirror_mode": {
    "name": "ipython",
    "version": 3
   },
   "file_extension": ".py",
   "mimetype": "text/x-python",
   "name": "python",
   "nbconvert_exporter": "python",
   "pygments_lexer": "ipython3",
   "version": "3.6.5"
  }
 },
 "nbformat": 4,
 "nbformat_minor": 2
}
